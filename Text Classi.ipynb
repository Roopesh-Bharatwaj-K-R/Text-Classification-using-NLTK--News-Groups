{
 "cells": [
  {
   "cell_type": "markdown",
   "metadata": {
    "id": "-Erd8RisRX5Q"
   },
   "source": [
    "# Dataset Description: \n",
    "\n",
    "\n",
    "The 20 newsgroups dataset comprises around 18000 newsgroups posts on 20 topics split in two subsets: one for training (or development) and the other one for testing (or for performance evaluation). The split between the train and test set is based upon a messages posted before and after a specific date."
   ]
  },
  {
   "cell_type": "markdown",
   "metadata": {
    "id": "0gT-a1iLZLUY"
   },
   "source": [
    "# Text Classification\n",
    "You will need to use the techniques of stopping(removing small insignificant words eg I, the, you etc), stemming(removing the endings of words eg -ed -ing) and use of TF/IDF (Term Frequency over Item Document Frequency) to aid in the classification of the type of news report\n",
    "\n",
    "This is a task which will require you to do some feature engineering to get decent accuracy\n",
    "\n",
    "The submission will be the source code which will output a confusion matrix and overall accuracy of each classifier\n",
    "\n",
    "Running this code at a streatch may take upto 3 Hours "
   ]
  },
  {
   "cell_type": "code",
   "execution_count": 33,
   "metadata": {
    "id": "2gX-30_BXUQO"
   },
   "outputs": [],
   "source": [
    "import pandas as pd\n",
    "import numpy as np\n",
    "import matplotlib.pyplot as plt\n",
    "import seaborn as sns"
   ]
  },
  {
   "cell_type": "code",
   "execution_count": 34,
   "metadata": {
    "colab": {
     "base_uri": "https://localhost:8080/"
    },
    "id": "jJEWnVbPXVpF",
    "outputId": "a2e5f7d3-c2c5-4832-c552-66da038f1c9b"
   },
   "outputs": [
    {
     "name": "stderr",
     "output_type": "stream",
     "text": [
      "[nltk_data] Downloading package punkt to\n",
      "[nltk_data]     C:\\Users\\ftobi\\AppData\\Roaming\\nltk_data...\n",
      "[nltk_data]   Package punkt is already up-to-date!\n",
      "[nltk_data] Downloading package stopwords to\n",
      "[nltk_data]     C:\\Users\\ftobi\\AppData\\Roaming\\nltk_data...\n",
      "[nltk_data]   Package stopwords is already up-to-date!\n",
      "[nltk_data] Downloading package wordnet to\n",
      "[nltk_data]     C:\\Users\\ftobi\\AppData\\Roaming\\nltk_data...\n",
      "[nltk_data]   Package wordnet is already up-to-date!\n"
     ]
    },
    {
     "data": {
      "text/plain": [
       "True"
      ]
     },
     "execution_count": 34,
     "metadata": {},
     "output_type": "execute_result"
    }
   ],
   "source": [
    " from sklearn.datasets import fetch_20newsgroups\n",
    "import nltk\n",
    "nltk.download('punkt')\n",
    "nltk.download('stopwords')\n",
    "nltk.download('wordnet')"
   ]
  },
  {
   "cell_type": "markdown",
   "metadata": {
    "id": "haVFknltRBHj"
   },
   "source": [
    "FEATURE ENGINEERING !!!"
   ]
  },
  {
   "cell_type": "code",
   "execution_count": 35,
   "metadata": {
    "id": "48WeKyRlAue3"
   },
   "outputs": [],
   "source": [
    "data =fetch_20newsgroups(subset ='all') #(Adding All Subset of catagory)\n",
    "#data\n",
    "# here we can see lot of unwanted information on the news data "
   ]
  },
  {
   "cell_type": "markdown",
   "metadata": {
    "id": "2a_4jXMvVI0A"
   },
   "source": [
    "Removing the header, footer, quotes in the **dataset**"
   ]
  },
  {
   "cell_type": "code",
   "execution_count": 36,
   "metadata": {
    "id": "SwpdqtE3Yhg2"
   },
   "outputs": [],
   "source": [
    "# Removing the unnecessiary headers , footers, text quotes improves the realiability of the data \n",
    "# but still it will reduce the accuracy score.\n",
    "# our goal is to achieve a descent score of F1\n",
    "fetch =fetch_20newsgroups(remove= ('headers', 'footers', 'quotes'), subset='all') \n",
    "#fetch "
   ]
  },
  {
   "cell_type": "code",
   "execution_count": 37,
   "metadata": {
    "colab": {
     "base_uri": "https://localhost:8080/"
    },
    "id": "ZLUQQy46l2X5",
    "outputId": "8a81bafd-e443-4b70-eb26-14a518528664"
   },
   "outputs": [
    {
     "data": {
      "text/plain": [
       "['alt.atheism',\n",
       " 'comp.graphics',\n",
       " 'comp.os.ms-windows.misc',\n",
       " 'comp.sys.ibm.pc.hardware',\n",
       " 'comp.sys.mac.hardware',\n",
       " 'comp.windows.x',\n",
       " 'misc.forsale',\n",
       " 'rec.autos',\n",
       " 'rec.motorcycles',\n",
       " 'rec.sport.baseball',\n",
       " 'rec.sport.hockey',\n",
       " 'sci.crypt',\n",
       " 'sci.electronics',\n",
       " 'sci.med',\n",
       " 'sci.space',\n",
       " 'soc.religion.christian',\n",
       " 'talk.politics.guns',\n",
       " 'talk.politics.mideast',\n",
       " 'talk.politics.misc',\n",
       " 'talk.religion.misc']"
      ]
     },
     "execution_count": 37,
     "metadata": {},
     "output_type": "execute_result"
    }
   ],
   "source": [
    "# to print Target Names\n",
    "#print(list(fetch.target_names))\n",
    "fetch['target_names']"
   ]
  },
  {
   "cell_type": "code",
   "execution_count": 38,
   "metadata": {
    "colab": {
     "base_uri": "https://localhost:8080/"
    },
    "id": "kXfKdDNClGeO",
    "outputId": "be1e8042-03ed-44d2-fa55-d3c15dcf1dad"
   },
   "outputs": [
    {
     "data": {
      "text/plain": [
       "22804988"
      ]
     },
     "execution_count": 38,
     "metadata": {},
     "output_type": "execute_result"
    }
   ],
   "source": [
    "# to write as a text file \n",
    "f= open('fetch_20newsgroups.txt','w')\n",
    "f.write(str(fetch))"
   ]
  },
  {
   "cell_type": "code",
   "execution_count": 39,
   "metadata": {
    "colab": {
     "base_uri": "https://localhost:8080/"
    },
    "id": "aHFM4cymjSgu",
    "outputId": "1dabde2f-73f4-4baa-d2b3-e9d16e7f373a"
   },
   "outputs": [
    {
     "name": "stdout",
     "output_type": "stream",
     "text": [
      "18846 documents\n",
      "20 categories\n",
      "\n"
     ]
    }
   ],
   "source": [
    "print(\"%d documents\" % len(fetch.filenames))\n",
    "print(\"%d categories\" % len(fetch.target_names))\n",
    "print()"
   ]
  },
  {
   "cell_type": "code",
   "execution_count": 40,
   "metadata": {
    "colab": {
     "base_uri": "https://localhost:8080/"
    },
    "id": "erCFNsUGfAgj",
    "outputId": "6cca26c8-5f2a-43d3-b9d1-44a7a7285d5d"
   },
   "outputs": [
    {
     "data": {
      "text/plain": [
       "0     10\n",
       "1      3\n",
       "2     17\n",
       "3      3\n",
       "4      4\n",
       "5     12\n",
       "6      4\n",
       "7     10\n",
       "8     10\n",
       "9     19\n",
       "10    19\n",
       "11    11\n",
       "12    19\n",
       "13    13\n",
       "14     0\n",
       "15    17\n",
       "16    12\n",
       "17    12\n",
       "18    11\n",
       "19     8\n",
       "Name: target, dtype: int32"
      ]
     },
     "execution_count": 40,
     "metadata": {},
     "output_type": "execute_result"
    }
   ],
   "source": [
    "# converting to pandas dataframe\n",
    "data=pd.Series(fetch.data)\n",
    "data= pd.DataFrame(data)\n",
    "data.columns =['data']+data.columns.tolist()[1:] \n",
    "data['target']= pd.Series(fetch.target)\n",
    "data['target_names']=pd.Series(fetch.target_names)\n",
    "data['filenames']= pd.Series(fetch.filenames)\n",
    "data['target'][:20]\n",
    "#data['filenames']"
   ]
  },
  {
   "cell_type": "code",
   "execution_count": 41,
   "metadata": {
    "colab": {
     "base_uri": "https://localhost:8080/"
    },
    "id": "9UEsbbULgVOS",
    "outputId": "8bfd3600-68f2-44e0-f82f-7a661801a769"
   },
   "outputs": [
    {
     "data": {
      "text/plain": [
       "0    C:\\Users\\ftobi\\scikit_learn_data\\20news_home\\2...\n",
       "1    C:\\Users\\ftobi\\scikit_learn_data\\20news_home\\2...\n",
       "2    C:\\Users\\ftobi\\scikit_learn_data\\20news_home\\2...\n",
       "Name: filenames, dtype: object"
      ]
     },
     "execution_count": 41,
     "metadata": {},
     "output_type": "execute_result"
    }
   ],
   "source": [
    "data['filenames'][:3]"
   ]
  },
  {
   "cell_type": "code",
   "execution_count": 42,
   "metadata": {
    "colab": {
     "base_uri": "https://localhost:8080/",
     "height": 204
    },
    "id": "vm3xyNE1X4tP",
    "outputId": "eef3cac9-5f6c-43c5-d731-ccccce9d9fcf"
   },
   "outputs": [
    {
     "data": {
      "text/html": [
       "<div>\n",
       "<style scoped>\n",
       "    .dataframe tbody tr th:only-of-type {\n",
       "        vertical-align: middle;\n",
       "    }\n",
       "\n",
       "    .dataframe tbody tr th {\n",
       "        vertical-align: top;\n",
       "    }\n",
       "\n",
       "    .dataframe thead th {\n",
       "        text-align: right;\n",
       "    }\n",
       "</style>\n",
       "<table border=\"1\" class=\"dataframe\">\n",
       "  <thead>\n",
       "    <tr style=\"text-align: right;\">\n",
       "      <th></th>\n",
       "      <th>data</th>\n",
       "      <th>target</th>\n",
       "      <th>target_names</th>\n",
       "      <th>filenames</th>\n",
       "    </tr>\n",
       "  </thead>\n",
       "  <tbody>\n",
       "    <tr>\n",
       "      <th>0</th>\n",
       "      <td>\\n\\nI am sure some bashers of Pens fans are pr...</td>\n",
       "      <td>10</td>\n",
       "      <td>alt.atheism</td>\n",
       "      <td>C:\\Users\\ftobi\\scikit_learn_data\\20news_home\\2...</td>\n",
       "    </tr>\n",
       "    <tr>\n",
       "      <th>1</th>\n",
       "      <td>My brother is in the market for a high-perform...</td>\n",
       "      <td>3</td>\n",
       "      <td>comp.graphics</td>\n",
       "      <td>C:\\Users\\ftobi\\scikit_learn_data\\20news_home\\2...</td>\n",
       "    </tr>\n",
       "    <tr>\n",
       "      <th>2</th>\n",
       "      <td>\\n\\n\\n\\n\\tFinally you said what you dream abou...</td>\n",
       "      <td>17</td>\n",
       "      <td>comp.os.ms-windows.misc</td>\n",
       "      <td>C:\\Users\\ftobi\\scikit_learn_data\\20news_home\\2...</td>\n",
       "    </tr>\n",
       "    <tr>\n",
       "      <th>3</th>\n",
       "      <td>\\nThink!\\n\\nIt's the SCSI card doing the DMA t...</td>\n",
       "      <td>3</td>\n",
       "      <td>comp.sys.ibm.pc.hardware</td>\n",
       "      <td>C:\\Users\\ftobi\\scikit_learn_data\\20news_home\\2...</td>\n",
       "    </tr>\n",
       "    <tr>\n",
       "      <th>4</th>\n",
       "      <td>1)    I have an old Jasmine drive which I cann...</td>\n",
       "      <td>4</td>\n",
       "      <td>comp.sys.mac.hardware</td>\n",
       "      <td>C:\\Users\\ftobi\\scikit_learn_data\\20news_home\\2...</td>\n",
       "    </tr>\n",
       "  </tbody>\n",
       "</table>\n",
       "</div>"
      ],
      "text/plain": [
       "                                                data  target  \\\n",
       "0  \\n\\nI am sure some bashers of Pens fans are pr...      10   \n",
       "1  My brother is in the market for a high-perform...       3   \n",
       "2  \\n\\n\\n\\n\\tFinally you said what you dream abou...      17   \n",
       "3  \\nThink!\\n\\nIt's the SCSI card doing the DMA t...       3   \n",
       "4  1)    I have an old Jasmine drive which I cann...       4   \n",
       "\n",
       "               target_names                                          filenames  \n",
       "0               alt.atheism  C:\\Users\\ftobi\\scikit_learn_data\\20news_home\\2...  \n",
       "1             comp.graphics  C:\\Users\\ftobi\\scikit_learn_data\\20news_home\\2...  \n",
       "2   comp.os.ms-windows.misc  C:\\Users\\ftobi\\scikit_learn_data\\20news_home\\2...  \n",
       "3  comp.sys.ibm.pc.hardware  C:\\Users\\ftobi\\scikit_learn_data\\20news_home\\2...  \n",
       "4     comp.sys.mac.hardware  C:\\Users\\ftobi\\scikit_learn_data\\20news_home\\2...  "
      ]
     },
     "execution_count": 42,
     "metadata": {},
     "output_type": "execute_result"
    }
   ],
   "source": [
    "data[:5]"
   ]
  },
  {
   "cell_type": "code",
   "execution_count": 43,
   "metadata": {
    "colab": {
     "base_uri": "https://localhost:8080/",
     "height": 297
    },
    "id": "T628xJLdUOsU",
    "outputId": "15397d5d-6532-4372-d3ba-ea0289991f3a"
   },
   "outputs": [
    {
     "data": {
      "text/html": [
       "<div>\n",
       "<style scoped>\n",
       "    .dataframe tbody tr th:only-of-type {\n",
       "        vertical-align: middle;\n",
       "    }\n",
       "\n",
       "    .dataframe tbody tr th {\n",
       "        vertical-align: top;\n",
       "    }\n",
       "\n",
       "    .dataframe thead th {\n",
       "        text-align: right;\n",
       "    }\n",
       "</style>\n",
       "<table border=\"1\" class=\"dataframe\">\n",
       "  <thead>\n",
       "    <tr style=\"text-align: right;\">\n",
       "      <th></th>\n",
       "      <th>target</th>\n",
       "    </tr>\n",
       "  </thead>\n",
       "  <tbody>\n",
       "    <tr>\n",
       "      <th>count</th>\n",
       "      <td>18846.000000</td>\n",
       "    </tr>\n",
       "    <tr>\n",
       "      <th>mean</th>\n",
       "      <td>9.293166</td>\n",
       "    </tr>\n",
       "    <tr>\n",
       "      <th>std</th>\n",
       "      <td>5.562798</td>\n",
       "    </tr>\n",
       "    <tr>\n",
       "      <th>min</th>\n",
       "      <td>0.000000</td>\n",
       "    </tr>\n",
       "    <tr>\n",
       "      <th>25%</th>\n",
       "      <td>5.000000</td>\n",
       "    </tr>\n",
       "    <tr>\n",
       "      <th>50%</th>\n",
       "      <td>9.000000</td>\n",
       "    </tr>\n",
       "    <tr>\n",
       "      <th>75%</th>\n",
       "      <td>14.000000</td>\n",
       "    </tr>\n",
       "    <tr>\n",
       "      <th>max</th>\n",
       "      <td>19.000000</td>\n",
       "    </tr>\n",
       "  </tbody>\n",
       "</table>\n",
       "</div>"
      ],
      "text/plain": [
       "             target\n",
       "count  18846.000000\n",
       "mean       9.293166\n",
       "std        5.562798\n",
       "min        0.000000\n",
       "25%        5.000000\n",
       "50%        9.000000\n",
       "75%       14.000000\n",
       "max       19.000000"
      ]
     },
     "execution_count": 43,
     "metadata": {},
     "output_type": "execute_result"
    }
   ],
   "source": [
    "data.describe()"
   ]
  },
  {
   "cell_type": "code",
   "execution_count": 44,
   "metadata": {
    "colab": {
     "base_uri": "https://localhost:8080/"
    },
    "id": "3FJdftLZUT99",
    "outputId": "1d706b93-24df-4443-c471-a39ce75b3e21"
   },
   "outputs": [
    {
     "data": {
      "text/plain": [
       "data                0\n",
       "target              0\n",
       "target_names    18826\n",
       "filenames           0\n",
       "dtype: int64"
      ]
     },
     "execution_count": 44,
     "metadata": {},
     "output_type": "execute_result"
    }
   ],
   "source": [
    "data.isnull().sum()"
   ]
  },
  {
   "cell_type": "code",
   "execution_count": 45,
   "metadata": {
    "colab": {
     "base_uri": "https://localhost:8080/"
    },
    "id": "GDc2bqLFUuUu",
    "outputId": "1fac207e-31c4-4eb8-e674-7f6eb9525fbd"
   },
   "outputs": [
    {
     "name": "stdout",
     "output_type": "stream",
     "text": [
      "<class 'pandas.core.frame.DataFrame'>\n",
      "RangeIndex: 18846 entries, 0 to 18845\n",
      "Data columns (total 4 columns):\n",
      " #   Column        Non-Null Count  Dtype \n",
      "---  ------        --------------  ----- \n",
      " 0   data          18846 non-null  object\n",
      " 1   target        18846 non-null  int32 \n",
      " 2   target_names  20 non-null     object\n",
      " 3   filenames     18846 non-null  object\n",
      "dtypes: int32(1), object(3)\n",
      "memory usage: 515.4+ KB\n"
     ]
    }
   ],
   "source": [
    "data.info()"
   ]
  },
  {
   "cell_type": "code",
   "execution_count": 46,
   "metadata": {
    "colab": {
     "base_uri": "https://localhost:8080/"
    },
    "id": "RpXbHlEPQ_Jc",
    "outputId": "b6fbf8b8-4547-41a4-9bb0-7cf07428c39f"
   },
   "outputs": [
    {
     "data": {
      "text/plain": [
       "array([10,  3, 17,  4, 12, 19, 11, 13,  0,  8,  7,  5,  1, 14, 16,  6,  9,\n",
       "       18,  2, 15])"
      ]
     },
     "execution_count": 46,
     "metadata": {},
     "output_type": "execute_result"
    }
   ],
   "source": [
    "data.target.unique()"
   ]
  },
  {
   "cell_type": "code",
   "execution_count": 47,
   "metadata": {
    "colab": {
     "base_uri": "https://localhost:8080/"
    },
    "id": "z05Ve0lRcTCx",
    "outputId": "8aaba2d4-ea22-4df1-8810-dd042494990e"
   },
   "outputs": [
    {
     "data": {
      "text/plain": [
       "0    \\n\\nI am sure some bashers of Pens fans are pr...\n",
       "Name: data, dtype: object"
      ]
     },
     "execution_count": 47,
     "metadata": {},
     "output_type": "execute_result"
    }
   ],
   "source": [
    "x= data['data']\n",
    "y= data['target']\n",
    "y[:10]\n",
    "x[:1]"
   ]
  },
  {
   "cell_type": "code",
   "execution_count": 48,
   "metadata": {
    "id": "gRAOkzS5cTxY"
   },
   "outputs": [],
   "source": [
    "from sklearn.model_selection import train_test_split\n",
    "x_train, x_test, y_train, y_test = train_test_split(x, y, test_size=.35, random_state=32, shuffle =True )"
   ]
  },
  {
   "cell_type": "code",
   "execution_count": 49,
   "metadata": {
    "colab": {
     "base_uri": "https://localhost:8080/"
    },
    "id": "OpF1A6zIcUZB",
    "outputId": "c8bba60c-6e95-4c9d-9509-4c3ae268c99a"
   },
   "outputs": [
    {
     "name": "stdout",
     "output_type": "stream",
     "text": [
      "X-Train Shape:  12249 \n",
      "Y-Train Shape : 12249\n",
      "X-Test Shape:  6597 \n",
      "Y-Test Shape: 6597\n"
     ]
    }
   ],
   "source": [
    "print(\"X-Train Shape: \", len(x_train),'\\n' \"Y-Train Shape :\", len(y_train))\n",
    "print(\"X-Test Shape: \", len(x_test),'\\n' \"Y-Test Shape:\", len(y_test))"
   ]
  },
  {
   "cell_type": "markdown",
   "metadata": {
    "id": "Bq2Ydze0DBab"
   },
   "source": [
    "# Filtering the text data, Tonkenizing, Stemming, Stopwords, Lemmatizer, Tfidf"
   ]
  },
  {
   "cell_type": "markdown",
   "metadata": {
    "id": "FHkCuOn49pdL"
   },
   "source": [
    "https://www.kaggle.com/ashishpatel26/beginner-to-intermediate-nlp-tutorial"
   ]
  },
  {
   "cell_type": "code",
   "execution_count": 50,
   "metadata": {
    "id": "PgfSbNtMZd_p"
   },
   "outputs": [],
   "source": [
    "from nltk.corpus import stopwords\n",
    "from nltk.tokenize import word_tokenize # Importing Tokenizer from NLTK\n",
    "from nltk.stem import WordNetLemmatizer,  PorterStemmer # Importing Porter Stemming from NLTK, wordnetLemmatizer\n",
    "from sklearn.feature_extraction.text import TfidfVectorizer # Term frequency inverse document frequency"
   ]
  },
  {
   "cell_type": "code",
   "execution_count": 51,
   "metadata": {
    "id": "7LL6nP6FF9dF"
   },
   "outputs": [],
   "source": [
    "def tokenize(text):\n",
    "    return word_tokenize(text)\n",
    "\n",
    "def remove_stop_words(text):\n",
    "    stop_words=stopwords.words('english')\n",
    "    return([token.lower() for token in text if token not in stop_words])\n",
    "\n",
    "def remove_punct(text):\n",
    "    puncts = \"~`!@#€$%^&*()_-+={[}]|\\:;'<,>.?/\"\n",
    "    return ([char for char in text if char not in puncts])\n",
    "\n",
    "def stem_words(text):\n",
    "    stemmer = WordNetLemmatizer()\n",
    "    return ([stemmer.lemmatize(token) for token in text])\n",
    "\n",
    "def stem_words_more(text):\n",
    "    stemmer = PorterStemmer()\n",
    "    return ([stemmer.stem(token) for token in text])\n",
    "\n",
    "def clean_data(input_list):\n",
    "    return_list = []\n",
    "    for li in input_list:\n",
    "        return_list.append((stem_words_more(stem_words(remove_punct(remove_stop_words(tokenize(li))))))) # calling PorterStemmer, WordNetLemmatizer, Punct, Stopwords, Tokenizer from Nltk\n",
    "    return return_list\n",
    "\n",
    "def dummy(doc):\n",
    "    return doc"
   ]
  },
  {
   "cell_type": "code",
   "execution_count": 52,
   "metadata": {
    "colab": {
     "base_uri": "https://localhost:8080/"
    },
    "id": "3uG1ZJy4h1Rf",
    "outputId": "65d3ed17-e509-46fb-b782-4d3ae57494e0"
   },
   "outputs": [
    {
     "name": "stdout",
     "output_type": "stream",
     "text": [
      "[['i', 'intern', 'modem', 'i', 'configur', 'com4', 'irq', '3', 'i', 'insert', 'card', 'do', '5.02', 'pc', 'show', 'com3', 'irq3', 'com4', \"'s\", 'address', '2e8', 'when', 'i', 'get', 'debug', 'dump', 'data', '40:0', 'show', 'address', '2e8', 'belong', 'com3', 'even', 'though', 'modem', 'com4', 'now', 'i', 'know', 'modem', 'work', 'correctli', 'sinc', 'i', 'test', 'differ', 'pc', 'show', 'correctli', 'com4', '2e8', 'irq3', 'to', 'make', 'work', 'do', '5.02', 'pc', 'i', 'configur', 'modem', 'com3', '2e8', 'irq3', '--', '-but', 'though', 'i', 'comm', 'program', 'allow', 'fax', 'program', 'came', 'modem', 'work', 'anyway', 'i', 'would', 'like', 'comput', 'display', 'modem', 'set', 'com4', '...', 'i', 'run', 'diagnost', 'program', 'help', 'display', 'modem', 'com4', 'other', 'display', 'com3', 'i', 'use', 'window', 'do', 'problem', '...', 'ani', 'help', 'pointer', 'appreci', '....', 'for', 'variou', 'reason', 'i', 'must', 'modem', 'work', 'com4', 'thu', 'switch', 'com', 'port', 'answer', '...', 'last', 'time', 'i', 'post', 'i', 'get', 'do', 'specif', 'answer', 'time', 'i', 'includ', 'specif', 'inform', '....', 'pleas', 'help', '--', '--', 'avinash', 'chopd', 'avinash', 'acm.org']]\n",
      "  (0, 40004)\t0.08771355508113952\n",
      "  (0, 50409)\t0.08771355508113952\n",
      "  (0, 43774)\t0.17542711016227905\n",
      "  (0, 99445)\t0.02963435290247474\n",
      "  (0, 72991)\t0.03370373138833866\n",
      "  (0, 72688)\t0.03203958095259351\n",
      "  (0, 112286)\t0.07918322671351775\n",
      "  (0, 100045)\t0.029891043623053358\n",
      "  (0, 117233)\t0.049502478043821484\n",
      "  (0, 79350)\t0.03143715543852512\n",
      "  (0, 42026)\t0.07415541738666101\n",
      "  (0, 99988)\t0.04676342734130043\n",
      "  (0, 51511)\t0.06188532949206432\n",
      "  (0, 114638)\t0.04493506361815541\n",
      "  (0, 117056)\t0.04183146947753942\n",
      "  (0, 89985)\t0.03323916316814963\n",
      "  (0, 104791)\t0.03170601059351513\n",
      "  (0, 122442)\t0.043349114394354904\n",
      "  (0, 63216)\t0.03216313290922699\n",
      "  (0, 5797)\t0.07720340174689547\n",
      "  (0, 42520)\t0.037942729075414905\n",
      "  (0, 99769)\t0.05409325576687407\n",
      "  (0, 41916)\t0.03602034660628415\n",
      "  (0, 100872)\t0.028299264722223407\n",
      "  (0, 126104)\t0.0342536402992952\n",
      "  :\t:\n",
      "  (0, 45531)\t0.05138916840499877\n",
      "  (0, 23083)\t0.08771355508113952\n",
      "  (0, 54883)\t0.03894001252410548\n",
      "  (0, 57776)\t0.057484342643822246\n",
      "  (0, 55249)\t0.0678860117275538\n",
      "  (0, 65591)\t0.044594670631990865\n",
      "  (0, 125758)\t0.03494282271765748\n",
      "  (0, 19846)\t0.31778014242078895\n",
      "  (0, 40167)\t0.07651359264678259\n",
      "  (0, 2065)\t0.018054865284228262\n",
      "  (0, 73799)\t0.2292262274670277\n",
      "  (0, 51527)\t0.2965636209942257\n",
      "  (0, 110526)\t0.10444061464793197\n",
      "  (0, 97937)\t0.12466898743175588\n",
      "  (0, 24746)\t0.17542711016227905\n",
      "  (0, 56929)\t0.12823391674995235\n",
      "  (0, 49163)\t0.03722741744456763\n",
      "  (0, 73199)\t0.05453897124254816\n",
      "  (0, 20447)\t0.03287985020906236\n",
      "  (0, 73794)\t0.06327637040740176\n",
      "  (0, 51533)\t0.5063105052906328\n",
      "  (0, 52079)\t0.09914202742912728\n",
      "  (0, 88224)\t0.37930903642215497\n",
      "  (0, 73418)\t0.040484437934514554\n",
      "  (0, 71032)\t0.18827814937678017\n"
     ]
    }
   ],
   "source": [
    "x_train = clean_data(x_train)\n",
    "x_test = clean_data(x_test)\n",
    "print(x_train[:1])\n",
    "tfidf = TfidfVectorizer(analyzer='word', tokenizer=dummy, preprocessor=dummy, token_pattern=None)\n",
    "x_train = tfidf.fit_transform(x_train)\n",
    "x_test = tfidf.transform(x_test)\n",
    "#y_train = y_train[0:2000]\n",
    "#y_test = y_test[0:200]\n",
    "print(x_train[:1])"
   ]
  },
  {
   "cell_type": "code",
   "execution_count": 53,
   "metadata": {
    "colab": {
     "base_uri": "https://localhost:8080/"
    },
    "id": "MN7jJdqbaJUE",
    "outputId": "42860819-3bc9-458a-fae3-6258767e27f9"
   },
   "outputs": [
    {
     "name": "stdout",
     "output_type": "stream",
     "text": [
      "2\n"
     ]
    }
   ],
   "source": [
    "print(len(x_train.shape))\n",
    "#print(x_train[:5])"
   ]
  },
  {
   "cell_type": "markdown",
   "metadata": {
    "id": "knOUoMdP0UU0"
   },
   "source": [
    "# Normalizing the data\n",
    "https://www.analyticsvidhya.com/blog/2020/04/feature-scaling-machine-learning-normalization-standardization/"
   ]
  },
  {
   "cell_type": "code",
   "execution_count": 54,
   "metadata": {
    "id": "nBmWZIA7tWP0"
   },
   "outputs": [],
   "source": [
    "# STANDARD SCALER\n",
    "\n",
    "#from sklearn.preprocessing import StandardScaler\n",
    "#scaler = StandardScaler() \n",
    "#scaler.fit(x_train) \n",
    "#scaler.fit(x_test)\n",
    "#x_train = scaler.transform(x_train) \n",
    "#x_test = scaler.transform(x_test)  \n",
    "\n"
   ]
  },
  {
   "cell_type": "code",
   "execution_count": 55,
   "metadata": {
    "id": "G8Fu5PsZLGSg"
   },
   "outputs": [],
   "source": [
    "# MAXABS SCALER\n",
    "\n",
    "#from sklearn.preprocessing import MaxAbsScaler\n",
    "#from sklearn.svm import SVC\n",
    "#scaler = MaxAbsScaler().fit(x_train)\n",
    "\n",
    "#x_train = scaler.transform(x_train)\n",
    "#x_test = scaler.transform(x_test)\n",
    "\n",
    "#print(x_train[:1])"
   ]
  },
  {
   "cell_type": "markdown",
   "metadata": {
    "id": "2EYjDWxG0mO9"
   },
   "source": [
    "Here in this data set, after removing the (Headers, Quotes, Footer, and performing NLP functions) scaling the data reduces the performance of the Model, best is to drop the scaling."
   ]
  },
  {
   "cell_type": "markdown",
   "metadata": {
    "id": "t2hxkTUEbv48"
   },
   "source": [
    "# Modelling"
   ]
  },
  {
   "cell_type": "markdown",
   "metadata": {
    "id": "PYnlomcxbl8S"
   },
   "source": [
    "Modelling Using SVM, NAIVE BAYES, NEURAL NETWORKS\n",
    "\n",
    "https://www.kaggle.com/venkatkrishnan/gensim-text-mining-techniques"
   ]
  },
  {
   "cell_type": "markdown",
   "metadata": {},
   "source": [
    "# NAIVE BAYES"
   ]
  },
  {
   "cell_type": "code",
   "execution_count": null,
   "metadata": {},
   "outputs": [],
   "source": [
    "# It doesn't require as much training data. It handles both continuous and discrete data. \n",
    "# It is highly scalable with the number of predictors and data points. \n",
    "# It is fast and can be used to make real-time predictions"
   ]
  },
  {
   "cell_type": "code",
   "execution_count": 56,
   "metadata": {
    "id": "j0K-nWYqaJaX"
   },
   "outputs": [],
   "source": [
    "from sklearn.metrics import mean_absolute_error,mean_squared_error ,r2_score\n",
    "from sklearn.metrics import accuracy_score, classification_report, precision_score, recall_score, confusion_matrix, roc_auc_score,f1_score\n",
    "from sklearn.naive_bayes import GaussianNB, MultinomialNB, BernoulliNB"
   ]
  },
  {
   "cell_type": "code",
   "execution_count": 57,
   "metadata": {
    "id": "ViKqPaXDaJXY"
   },
   "outputs": [],
   "source": [
    " #A sparse matrix was passed, but dense data is required. Use X.toarray() to convert to a dense numpy array."
   ]
  },
  {
   "cell_type": "code",
   "execution_count": 58,
   "metadata": {
    "colab": {
     "base_uri": "https://localhost:8080/",
     "height": 669
    },
    "id": "9Cnj8zMfaJlJ",
    "outputId": "18c887b4-3e01-4521-e683-66d01790cac9"
   },
   "outputs": [
    {
     "data": {
      "text/html": [
       "<div>\n",
       "<style scoped>\n",
       "    .dataframe tbody tr th:only-of-type {\n",
       "        vertical-align: middle;\n",
       "    }\n",
       "\n",
       "    .dataframe tbody tr th {\n",
       "        vertical-align: top;\n",
       "    }\n",
       "\n",
       "    .dataframe thead th {\n",
       "        text-align: right;\n",
       "    }\n",
       "</style>\n",
       "<table border=\"1\" class=\"dataframe\">\n",
       "  <thead>\n",
       "    <tr style=\"text-align: right;\">\n",
       "      <th></th>\n",
       "      <th>0</th>\n",
       "      <th>1</th>\n",
       "      <th>2</th>\n",
       "      <th>3</th>\n",
       "      <th>4</th>\n",
       "      <th>5</th>\n",
       "      <th>6</th>\n",
       "      <th>7</th>\n",
       "      <th>8</th>\n",
       "      <th>9</th>\n",
       "      <th>10</th>\n",
       "      <th>11</th>\n",
       "      <th>12</th>\n",
       "      <th>13</th>\n",
       "      <th>14</th>\n",
       "      <th>15</th>\n",
       "      <th>16</th>\n",
       "      <th>17</th>\n",
       "      <th>18</th>\n",
       "      <th>19</th>\n",
       "    </tr>\n",
       "  </thead>\n",
       "  <tbody>\n",
       "    <tr>\n",
       "      <th>0</th>\n",
       "      <td>179</td>\n",
       "      <td>0</td>\n",
       "      <td>0</td>\n",
       "      <td>1</td>\n",
       "      <td>0</td>\n",
       "      <td>0</td>\n",
       "      <td>0</td>\n",
       "      <td>5</td>\n",
       "      <td>0</td>\n",
       "      <td>1</td>\n",
       "      <td>0</td>\n",
       "      <td>4</td>\n",
       "      <td>1</td>\n",
       "      <td>4</td>\n",
       "      <td>0</td>\n",
       "      <td>38</td>\n",
       "      <td>8</td>\n",
       "      <td>10</td>\n",
       "      <td>7</td>\n",
       "      <td>14</td>\n",
       "    </tr>\n",
       "    <tr>\n",
       "      <th>1</th>\n",
       "      <td>1</td>\n",
       "      <td>231</td>\n",
       "      <td>12</td>\n",
       "      <td>18</td>\n",
       "      <td>8</td>\n",
       "      <td>14</td>\n",
       "      <td>2</td>\n",
       "      <td>8</td>\n",
       "      <td>1</td>\n",
       "      <td>1</td>\n",
       "      <td>2</td>\n",
       "      <td>12</td>\n",
       "      <td>4</td>\n",
       "      <td>2</td>\n",
       "      <td>5</td>\n",
       "      <td>2</td>\n",
       "      <td>1</td>\n",
       "      <td>1</td>\n",
       "      <td>0</td>\n",
       "      <td>0</td>\n",
       "    </tr>\n",
       "    <tr>\n",
       "      <th>2</th>\n",
       "      <td>1</td>\n",
       "      <td>26</td>\n",
       "      <td>249</td>\n",
       "      <td>34</td>\n",
       "      <td>7</td>\n",
       "      <td>14</td>\n",
       "      <td>4</td>\n",
       "      <td>18</td>\n",
       "      <td>1</td>\n",
       "      <td>0</td>\n",
       "      <td>0</td>\n",
       "      <td>1</td>\n",
       "      <td>2</td>\n",
       "      <td>2</td>\n",
       "      <td>2</td>\n",
       "      <td>1</td>\n",
       "      <td>0</td>\n",
       "      <td>0</td>\n",
       "      <td>1</td>\n",
       "      <td>0</td>\n",
       "    </tr>\n",
       "    <tr>\n",
       "      <th>3</th>\n",
       "      <td>1</td>\n",
       "      <td>10</td>\n",
       "      <td>30</td>\n",
       "      <td>250</td>\n",
       "      <td>22</td>\n",
       "      <td>6</td>\n",
       "      <td>10</td>\n",
       "      <td>10</td>\n",
       "      <td>0</td>\n",
       "      <td>0</td>\n",
       "      <td>1</td>\n",
       "      <td>3</td>\n",
       "      <td>22</td>\n",
       "      <td>0</td>\n",
       "      <td>2</td>\n",
       "      <td>2</td>\n",
       "      <td>0</td>\n",
       "      <td>0</td>\n",
       "      <td>0</td>\n",
       "      <td>1</td>\n",
       "    </tr>\n",
       "    <tr>\n",
       "      <th>4</th>\n",
       "      <td>0</td>\n",
       "      <td>17</td>\n",
       "      <td>13</td>\n",
       "      <td>13</td>\n",
       "      <td>243</td>\n",
       "      <td>4</td>\n",
       "      <td>8</td>\n",
       "      <td>13</td>\n",
       "      <td>4</td>\n",
       "      <td>0</td>\n",
       "      <td>1</td>\n",
       "      <td>3</td>\n",
       "      <td>19</td>\n",
       "      <td>3</td>\n",
       "      <td>0</td>\n",
       "      <td>1</td>\n",
       "      <td>2</td>\n",
       "      <td>0</td>\n",
       "      <td>0</td>\n",
       "      <td>0</td>\n",
       "    </tr>\n",
       "    <tr>\n",
       "      <th>5</th>\n",
       "      <td>1</td>\n",
       "      <td>30</td>\n",
       "      <td>10</td>\n",
       "      <td>3</td>\n",
       "      <td>1</td>\n",
       "      <td>305</td>\n",
       "      <td>2</td>\n",
       "      <td>2</td>\n",
       "      <td>2</td>\n",
       "      <td>2</td>\n",
       "      <td>1</td>\n",
       "      <td>1</td>\n",
       "      <td>1</td>\n",
       "      <td>1</td>\n",
       "      <td>1</td>\n",
       "      <td>0</td>\n",
       "      <td>1</td>\n",
       "      <td>0</td>\n",
       "      <td>0</td>\n",
       "      <td>0</td>\n",
       "    </tr>\n",
       "    <tr>\n",
       "      <th>6</th>\n",
       "      <td>1</td>\n",
       "      <td>5</td>\n",
       "      <td>5</td>\n",
       "      <td>18</td>\n",
       "      <td>15</td>\n",
       "      <td>1</td>\n",
       "      <td>238</td>\n",
       "      <td>23</td>\n",
       "      <td>4</td>\n",
       "      <td>1</td>\n",
       "      <td>2</td>\n",
       "      <td>3</td>\n",
       "      <td>15</td>\n",
       "      <td>1</td>\n",
       "      <td>5</td>\n",
       "      <td>0</td>\n",
       "      <td>0</td>\n",
       "      <td>1</td>\n",
       "      <td>2</td>\n",
       "      <td>1</td>\n",
       "    </tr>\n",
       "    <tr>\n",
       "      <th>7</th>\n",
       "      <td>2</td>\n",
       "      <td>2</td>\n",
       "      <td>0</td>\n",
       "      <td>1</td>\n",
       "      <td>2</td>\n",
       "      <td>4</td>\n",
       "      <td>5</td>\n",
       "      <td>266</td>\n",
       "      <td>12</td>\n",
       "      <td>1</td>\n",
       "      <td>0</td>\n",
       "      <td>0</td>\n",
       "      <td>7</td>\n",
       "      <td>0</td>\n",
       "      <td>2</td>\n",
       "      <td>2</td>\n",
       "      <td>5</td>\n",
       "      <td>2</td>\n",
       "      <td>4</td>\n",
       "      <td>0</td>\n",
       "    </tr>\n",
       "    <tr>\n",
       "      <th>8</th>\n",
       "      <td>3</td>\n",
       "      <td>5</td>\n",
       "      <td>0</td>\n",
       "      <td>1</td>\n",
       "      <td>0</td>\n",
       "      <td>0</td>\n",
       "      <td>4</td>\n",
       "      <td>24</td>\n",
       "      <td>265</td>\n",
       "      <td>4</td>\n",
       "      <td>2</td>\n",
       "      <td>0</td>\n",
       "      <td>5</td>\n",
       "      <td>4</td>\n",
       "      <td>1</td>\n",
       "      <td>3</td>\n",
       "      <td>9</td>\n",
       "      <td>0</td>\n",
       "      <td>4</td>\n",
       "      <td>0</td>\n",
       "    </tr>\n",
       "    <tr>\n",
       "      <th>9</th>\n",
       "      <td>3</td>\n",
       "      <td>2</td>\n",
       "      <td>1</td>\n",
       "      <td>0</td>\n",
       "      <td>0</td>\n",
       "      <td>0</td>\n",
       "      <td>1</td>\n",
       "      <td>15</td>\n",
       "      <td>3</td>\n",
       "      <td>304</td>\n",
       "      <td>16</td>\n",
       "      <td>2</td>\n",
       "      <td>0</td>\n",
       "      <td>4</td>\n",
       "      <td>4</td>\n",
       "      <td>4</td>\n",
       "      <td>2</td>\n",
       "      <td>7</td>\n",
       "      <td>3</td>\n",
       "      <td>0</td>\n",
       "    </tr>\n",
       "    <tr>\n",
       "      <th>10</th>\n",
       "      <td>2</td>\n",
       "      <td>0</td>\n",
       "      <td>2</td>\n",
       "      <td>0</td>\n",
       "      <td>0</td>\n",
       "      <td>0</td>\n",
       "      <td>0</td>\n",
       "      <td>8</td>\n",
       "      <td>5</td>\n",
       "      <td>9</td>\n",
       "      <td>309</td>\n",
       "      <td>4</td>\n",
       "      <td>1</td>\n",
       "      <td>1</td>\n",
       "      <td>1</td>\n",
       "      <td>3</td>\n",
       "      <td>1</td>\n",
       "      <td>3</td>\n",
       "      <td>2</td>\n",
       "      <td>0</td>\n",
       "    </tr>\n",
       "    <tr>\n",
       "      <th>11</th>\n",
       "      <td>2</td>\n",
       "      <td>5</td>\n",
       "      <td>5</td>\n",
       "      <td>2</td>\n",
       "      <td>4</td>\n",
       "      <td>3</td>\n",
       "      <td>0</td>\n",
       "      <td>10</td>\n",
       "      <td>1</td>\n",
       "      <td>1</td>\n",
       "      <td>0</td>\n",
       "      <td>265</td>\n",
       "      <td>7</td>\n",
       "      <td>4</td>\n",
       "      <td>3</td>\n",
       "      <td>1</td>\n",
       "      <td>17</td>\n",
       "      <td>1</td>\n",
       "      <td>11</td>\n",
       "      <td>2</td>\n",
       "    </tr>\n",
       "    <tr>\n",
       "      <th>12</th>\n",
       "      <td>0</td>\n",
       "      <td>9</td>\n",
       "      <td>9</td>\n",
       "      <td>16</td>\n",
       "      <td>9</td>\n",
       "      <td>1</td>\n",
       "      <td>9</td>\n",
       "      <td>13</td>\n",
       "      <td>4</td>\n",
       "      <td>3</td>\n",
       "      <td>0</td>\n",
       "      <td>14</td>\n",
       "      <td>223</td>\n",
       "      <td>7</td>\n",
       "      <td>10</td>\n",
       "      <td>1</td>\n",
       "      <td>2</td>\n",
       "      <td>0</td>\n",
       "      <td>4</td>\n",
       "      <td>0</td>\n",
       "    </tr>\n",
       "    <tr>\n",
       "      <th>13</th>\n",
       "      <td>1</td>\n",
       "      <td>1</td>\n",
       "      <td>0</td>\n",
       "      <td>0</td>\n",
       "      <td>0</td>\n",
       "      <td>1</td>\n",
       "      <td>0</td>\n",
       "      <td>17</td>\n",
       "      <td>4</td>\n",
       "      <td>1</td>\n",
       "      <td>0</td>\n",
       "      <td>1</td>\n",
       "      <td>5</td>\n",
       "      <td>285</td>\n",
       "      <td>8</td>\n",
       "      <td>3</td>\n",
       "      <td>3</td>\n",
       "      <td>4</td>\n",
       "      <td>4</td>\n",
       "      <td>0</td>\n",
       "    </tr>\n",
       "    <tr>\n",
       "      <th>14</th>\n",
       "      <td>3</td>\n",
       "      <td>9</td>\n",
       "      <td>3</td>\n",
       "      <td>0</td>\n",
       "      <td>1</td>\n",
       "      <td>1</td>\n",
       "      <td>2</td>\n",
       "      <td>13</td>\n",
       "      <td>1</td>\n",
       "      <td>1</td>\n",
       "      <td>1</td>\n",
       "      <td>5</td>\n",
       "      <td>5</td>\n",
       "      <td>3</td>\n",
       "      <td>291</td>\n",
       "      <td>5</td>\n",
       "      <td>2</td>\n",
       "      <td>6</td>\n",
       "      <td>4</td>\n",
       "      <td>2</td>\n",
       "    </tr>\n",
       "    <tr>\n",
       "      <th>15</th>\n",
       "      <td>9</td>\n",
       "      <td>1</td>\n",
       "      <td>0</td>\n",
       "      <td>0</td>\n",
       "      <td>0</td>\n",
       "      <td>0</td>\n",
       "      <td>0</td>\n",
       "      <td>7</td>\n",
       "      <td>0</td>\n",
       "      <td>0</td>\n",
       "      <td>0</td>\n",
       "      <td>0</td>\n",
       "      <td>0</td>\n",
       "      <td>3</td>\n",
       "      <td>2</td>\n",
       "      <td>296</td>\n",
       "      <td>0</td>\n",
       "      <td>5</td>\n",
       "      <td>5</td>\n",
       "      <td>10</td>\n",
       "    </tr>\n",
       "    <tr>\n",
       "      <th>16</th>\n",
       "      <td>3</td>\n",
       "      <td>0</td>\n",
       "      <td>1</td>\n",
       "      <td>0</td>\n",
       "      <td>0</td>\n",
       "      <td>0</td>\n",
       "      <td>0</td>\n",
       "      <td>12</td>\n",
       "      <td>1</td>\n",
       "      <td>2</td>\n",
       "      <td>2</td>\n",
       "      <td>10</td>\n",
       "      <td>0</td>\n",
       "      <td>3</td>\n",
       "      <td>4</td>\n",
       "      <td>5</td>\n",
       "      <td>262</td>\n",
       "      <td>6</td>\n",
       "      <td>22</td>\n",
       "      <td>9</td>\n",
       "    </tr>\n",
       "    <tr>\n",
       "      <th>17</th>\n",
       "      <td>6</td>\n",
       "      <td>1</td>\n",
       "      <td>0</td>\n",
       "      <td>0</td>\n",
       "      <td>0</td>\n",
       "      <td>0</td>\n",
       "      <td>0</td>\n",
       "      <td>9</td>\n",
       "      <td>2</td>\n",
       "      <td>1</td>\n",
       "      <td>2</td>\n",
       "      <td>2</td>\n",
       "      <td>0</td>\n",
       "      <td>1</td>\n",
       "      <td>1</td>\n",
       "      <td>6</td>\n",
       "      <td>6</td>\n",
       "      <td>287</td>\n",
       "      <td>7</td>\n",
       "      <td>2</td>\n",
       "    </tr>\n",
       "    <tr>\n",
       "      <th>18</th>\n",
       "      <td>8</td>\n",
       "      <td>0</td>\n",
       "      <td>0</td>\n",
       "      <td>0</td>\n",
       "      <td>0</td>\n",
       "      <td>0</td>\n",
       "      <td>0</td>\n",
       "      <td>6</td>\n",
       "      <td>3</td>\n",
       "      <td>2</td>\n",
       "      <td>0</td>\n",
       "      <td>2</td>\n",
       "      <td>2</td>\n",
       "      <td>6</td>\n",
       "      <td>3</td>\n",
       "      <td>2</td>\n",
       "      <td>41</td>\n",
       "      <td>12</td>\n",
       "      <td>169</td>\n",
       "      <td>1</td>\n",
       "    </tr>\n",
       "    <tr>\n",
       "      <th>19</th>\n",
       "      <td>30</td>\n",
       "      <td>0</td>\n",
       "      <td>1</td>\n",
       "      <td>0</td>\n",
       "      <td>0</td>\n",
       "      <td>2</td>\n",
       "      <td>0</td>\n",
       "      <td>9</td>\n",
       "      <td>0</td>\n",
       "      <td>1</td>\n",
       "      <td>2</td>\n",
       "      <td>1</td>\n",
       "      <td>1</td>\n",
       "      <td>4</td>\n",
       "      <td>2</td>\n",
       "      <td>53</td>\n",
       "      <td>18</td>\n",
       "      <td>1</td>\n",
       "      <td>4</td>\n",
       "      <td>72</td>\n",
       "    </tr>\n",
       "  </tbody>\n",
       "</table>\n",
       "</div>"
      ],
      "text/plain": [
       "     0    1    2    3    4    5    6    7    8    9    10   11   12   13   14  \\\n",
       "0   179    0    0    1    0    0    0    5    0    1    0    4    1    4    0   \n",
       "1     1  231   12   18    8   14    2    8    1    1    2   12    4    2    5   \n",
       "2     1   26  249   34    7   14    4   18    1    0    0    1    2    2    2   \n",
       "3     1   10   30  250   22    6   10   10    0    0    1    3   22    0    2   \n",
       "4     0   17   13   13  243    4    8   13    4    0    1    3   19    3    0   \n",
       "5     1   30   10    3    1  305    2    2    2    2    1    1    1    1    1   \n",
       "6     1    5    5   18   15    1  238   23    4    1    2    3   15    1    5   \n",
       "7     2    2    0    1    2    4    5  266   12    1    0    0    7    0    2   \n",
       "8     3    5    0    1    0    0    4   24  265    4    2    0    5    4    1   \n",
       "9     3    2    1    0    0    0    1   15    3  304   16    2    0    4    4   \n",
       "10    2    0    2    0    0    0    0    8    5    9  309    4    1    1    1   \n",
       "11    2    5    5    2    4    3    0   10    1    1    0  265    7    4    3   \n",
       "12    0    9    9   16    9    1    9   13    4    3    0   14  223    7   10   \n",
       "13    1    1    0    0    0    1    0   17    4    1    0    1    5  285    8   \n",
       "14    3    9    3    0    1    1    2   13    1    1    1    5    5    3  291   \n",
       "15    9    1    0    0    0    0    0    7    0    0    0    0    0    3    2   \n",
       "16    3    0    1    0    0    0    0   12    1    2    2   10    0    3    4   \n",
       "17    6    1    0    0    0    0    0    9    2    1    2    2    0    1    1   \n",
       "18    8    0    0    0    0    0    0    6    3    2    0    2    2    6    3   \n",
       "19   30    0    1    0    0    2    0    9    0    1    2    1    1    4    2   \n",
       "\n",
       "     15   16   17   18  19  \n",
       "0    38    8   10    7  14  \n",
       "1     2    1    1    0   0  \n",
       "2     1    0    0    1   0  \n",
       "3     2    0    0    0   1  \n",
       "4     1    2    0    0   0  \n",
       "5     0    1    0    0   0  \n",
       "6     0    0    1    2   1  \n",
       "7     2    5    2    4   0  \n",
       "8     3    9    0    4   0  \n",
       "9     4    2    7    3   0  \n",
       "10    3    1    3    2   0  \n",
       "11    1   17    1   11   2  \n",
       "12    1    2    0    4   0  \n",
       "13    3    3    4    4   0  \n",
       "14    5    2    6    4   2  \n",
       "15  296    0    5    5  10  \n",
       "16    5  262    6   22   9  \n",
       "17    6    6  287    7   2  \n",
       "18    2   41   12  169   1  \n",
       "19   53   18    1    4  72  "
      ]
     },
     "execution_count": 58,
     "metadata": {},
     "output_type": "execute_result"
    }
   ],
   "source": [
    "model = MultinomialNB(alpha=0.005)\n",
    "model.fit(x_train, y_train)\n",
    "Nb_y_pred = model.predict(x_test)\n",
    "pd.DataFrame(classification_report(y_test, Nb_y_pred, output_dict=True)).T\n",
    "cm = pd.DataFrame(confusion_matrix(y_test, Nb_y_pred))\n",
    "cm"
   ]
  },
  {
   "cell_type": "code",
   "execution_count": 59,
   "metadata": {
    "colab": {
     "base_uri": "https://localhost:8080/",
     "height": 296
    },
    "id": "ILLCL9PygeA6",
    "outputId": "471ebbf3-fe6e-4878-baea-4e55825eb4ab"
   },
   "outputs": [
    {
     "data": {
      "image/png": "[encoded data removed]",
      "text/plain": [
       "<Figure size 432x288 with 1 Axes>"
      ]
     },
     "metadata": {
      "needs_background": "light"
     },
     "output_type": "display_data"
    }
   ],
   "source": [
    "sns.heatmap(cm,cbar=False,annot=True,cmap='Blues',fmt=\"d\")\n",
    "plt.xlabel(\"Nb_y_pred\")\n",
    "plt.ylabel(\"y_test\")\n",
    "plt.title(\"Confusion Matrix: Support Vector Machine Learning-linear Kernel\")\n",
    "plt.show()"
   ]
  },
  {
   "cell_type": "code",
   "execution_count": 60,
   "metadata": {
    "colab": {
     "base_uri": "https://localhost:8080/",
     "height": 762
    },
    "id": "syHEwY97esAY",
    "outputId": "0d5330b1-9443-401e-cf01-da76f34d7676"
   },
   "outputs": [
    {
     "data": {
      "text/html": [
       "<div>\n",
       "<style scoped>\n",
       "    .dataframe tbody tr th:only-of-type {\n",
       "        vertical-align: middle;\n",
       "    }\n",
       "\n",
       "    .dataframe tbody tr th {\n",
       "        vertical-align: top;\n",
       "    }\n",
       "\n",
       "    .dataframe thead th {\n",
       "        text-align: right;\n",
       "    }\n",
       "</style>\n",
       "<table border=\"1\" class=\"dataframe\">\n",
       "  <thead>\n",
       "    <tr style=\"text-align: right;\">\n",
       "      <th></th>\n",
       "      <th>precision</th>\n",
       "      <th>recall</th>\n",
       "      <th>f1-score</th>\n",
       "      <th>support</th>\n",
       "    </tr>\n",
       "  </thead>\n",
       "  <tbody>\n",
       "    <tr>\n",
       "      <th>0</th>\n",
       "      <td>0.699219</td>\n",
       "      <td>0.658088</td>\n",
       "      <td>0.678030</td>\n",
       "      <td>272.000000</td>\n",
       "    </tr>\n",
       "    <tr>\n",
       "      <th>1</th>\n",
       "      <td>0.652542</td>\n",
       "      <td>0.710769</td>\n",
       "      <td>0.680412</td>\n",
       "      <td>325.000000</td>\n",
       "    </tr>\n",
       "    <tr>\n",
       "      <th>2</th>\n",
       "      <td>0.730205</td>\n",
       "      <td>0.685950</td>\n",
       "      <td>0.707386</td>\n",
       "      <td>363.000000</td>\n",
       "    </tr>\n",
       "    <tr>\n",
       "      <th>3</th>\n",
       "      <td>0.700280</td>\n",
       "      <td>0.675676</td>\n",
       "      <td>0.687758</td>\n",
       "      <td>370.000000</td>\n",
       "    </tr>\n",
       "    <tr>\n",
       "      <th>4</th>\n",
       "      <td>0.778846</td>\n",
       "      <td>0.706395</td>\n",
       "      <td>0.740854</td>\n",
       "      <td>344.000000</td>\n",
       "    </tr>\n",
       "    <tr>\n",
       "      <th>5</th>\n",
       "      <td>0.856742</td>\n",
       "      <td>0.837912</td>\n",
       "      <td>0.847222</td>\n",
       "      <td>364.000000</td>\n",
       "    </tr>\n",
       "    <tr>\n",
       "      <th>6</th>\n",
       "      <td>0.835088</td>\n",
       "      <td>0.697947</td>\n",
       "      <td>0.760383</td>\n",
       "      <td>341.000000</td>\n",
       "    </tr>\n",
       "    <tr>\n",
       "      <th>7</th>\n",
       "      <td>0.545082</td>\n",
       "      <td>0.839117</td>\n",
       "      <td>0.660870</td>\n",
       "      <td>317.000000</td>\n",
       "    </tr>\n",
       "    <tr>\n",
       "      <th>8</th>\n",
       "      <td>0.846645</td>\n",
       "      <td>0.793413</td>\n",
       "      <td>0.819165</td>\n",
       "      <td>334.000000</td>\n",
       "    </tr>\n",
       "    <tr>\n",
       "      <th>9</th>\n",
       "      <td>0.907463</td>\n",
       "      <td>0.819407</td>\n",
       "      <td>0.861190</td>\n",
       "      <td>371.000000</td>\n",
       "    </tr>\n",
       "    <tr>\n",
       "      <th>10</th>\n",
       "      <td>0.906158</td>\n",
       "      <td>0.880342</td>\n",
       "      <td>0.893064</td>\n",
       "      <td>351.000000</td>\n",
       "    </tr>\n",
       "    <tr>\n",
       "      <th>11</th>\n",
       "      <td>0.795796</td>\n",
       "      <td>0.770349</td>\n",
       "      <td>0.782866</td>\n",
       "      <td>344.000000</td>\n",
       "    </tr>\n",
       "    <tr>\n",
       "      <th>12</th>\n",
       "      <td>0.696875</td>\n",
       "      <td>0.667665</td>\n",
       "      <td>0.681957</td>\n",
       "      <td>334.000000</td>\n",
       "    </tr>\n",
       "    <tr>\n",
       "      <th>13</th>\n",
       "      <td>0.843195</td>\n",
       "      <td>0.843195</td>\n",
       "      <td>0.843195</td>\n",
       "      <td>338.000000</td>\n",
       "    </tr>\n",
       "    <tr>\n",
       "      <th>14</th>\n",
       "      <td>0.838617</td>\n",
       "      <td>0.812849</td>\n",
       "      <td>0.825532</td>\n",
       "      <td>358.000000</td>\n",
       "    </tr>\n",
       "    <tr>\n",
       "      <th>15</th>\n",
       "      <td>0.691589</td>\n",
       "      <td>0.875740</td>\n",
       "      <td>0.772846</td>\n",
       "      <td>338.000000</td>\n",
       "    </tr>\n",
       "    <tr>\n",
       "      <th>16</th>\n",
       "      <td>0.689474</td>\n",
       "      <td>0.766082</td>\n",
       "      <td>0.725762</td>\n",
       "      <td>342.000000</td>\n",
       "    </tr>\n",
       "    <tr>\n",
       "      <th>17</th>\n",
       "      <td>0.829480</td>\n",
       "      <td>0.861862</td>\n",
       "      <td>0.845361</td>\n",
       "      <td>333.000000</td>\n",
       "    </tr>\n",
       "    <tr>\n",
       "      <th>18</th>\n",
       "      <td>0.667984</td>\n",
       "      <td>0.657588</td>\n",
       "      <td>0.662745</td>\n",
       "      <td>257.000000</td>\n",
       "    </tr>\n",
       "    <tr>\n",
       "      <th>19</th>\n",
       "      <td>0.631579</td>\n",
       "      <td>0.358209</td>\n",
       "      <td>0.457143</td>\n",
       "      <td>201.000000</td>\n",
       "    </tr>\n",
       "    <tr>\n",
       "      <th>accuracy</th>\n",
       "      <td>0.756253</td>\n",
       "      <td>0.756253</td>\n",
       "      <td>0.756253</td>\n",
       "      <td>0.756253</td>\n",
       "    </tr>\n",
       "    <tr>\n",
       "      <th>macro avg</th>\n",
       "      <td>0.757143</td>\n",
       "      <td>0.745928</td>\n",
       "      <td>0.746687</td>\n",
       "      <td>6597.000000</td>\n",
       "    </tr>\n",
       "    <tr>\n",
       "      <th>weighted avg</th>\n",
       "      <td>0.763590</td>\n",
       "      <td>0.756253</td>\n",
       "      <td>0.755825</td>\n",
       "      <td>6597.000000</td>\n",
       "    </tr>\n",
       "  </tbody>\n",
       "</table>\n",
       "</div>"
      ],
      "text/plain": [
       "              precision    recall  f1-score      support\n",
       "0              0.699219  0.658088  0.678030   272.000000\n",
       "1              0.652542  0.710769  0.680412   325.000000\n",
       "2              0.730205  0.685950  0.707386   363.000000\n",
       "3              0.700280  0.675676  0.687758   370.000000\n",
       "4              0.778846  0.706395  0.740854   344.000000\n",
       "5              0.856742  0.837912  0.847222   364.000000\n",
       "6              0.835088  0.697947  0.760383   341.000000\n",
       "7              0.545082  0.839117  0.660870   317.000000\n",
       "8              0.846645  0.793413  0.819165   334.000000\n",
       "9              0.907463  0.819407  0.861190   371.000000\n",
       "10             0.906158  0.880342  0.893064   351.000000\n",
       "11             0.795796  0.770349  0.782866   344.000000\n",
       "12             0.696875  0.667665  0.681957   334.000000\n",
       "13             0.843195  0.843195  0.843195   338.000000\n",
       "14             0.838617  0.812849  0.825532   358.000000\n",
       "15             0.691589  0.875740  0.772846   338.000000\n",
       "16             0.689474  0.766082  0.725762   342.000000\n",
       "17             0.829480  0.861862  0.845361   333.000000\n",
       "18             0.667984  0.657588  0.662745   257.000000\n",
       "19             0.631579  0.358209  0.457143   201.000000\n",
       "accuracy       0.756253  0.756253  0.756253     0.756253\n",
       "macro avg      0.757143  0.745928  0.746687  6597.000000\n",
       "weighted avg   0.763590  0.756253  0.755825  6597.000000"
      ]
     },
     "execution_count": 60,
     "metadata": {},
     "output_type": "execute_result"
    }
   ],
   "source": [
    "pd.DataFrame(classification_report(y_test, Nb_y_pred, output_dict=True)).T"
   ]
  },
  {
   "cell_type": "code",
   "execution_count": 61,
   "metadata": {
    "colab": {
     "base_uri": "https://localhost:8080/"
    },
    "id": "ONK9kEyXe01T",
    "outputId": "e4f80cdd-3804-4c7e-afdd-4ff7e6597937"
   },
   "outputs": [
    {
     "name": "stdout",
     "output_type": "stream",
     "text": [
      "Accuracy Score 0.7562528422010004\n",
      "Model Score:  0.7562528422010004\n"
     ]
    }
   ],
   "source": [
    "print(\"Accuracy Score\", accuracy_score(y_test, Nb_y_pred))\n",
    "print(\"Model Score: \", model.score(x_test, y_test))"
   ]
  },
  {
   "cell_type": "markdown",
   "metadata": {},
   "source": [
    "# SVM"
   ]
  },
  {
   "cell_type": "code",
   "execution_count": null,
   "metadata": {},
   "outputs": [],
   "source": [
    "#SVM\n",
    "\n",
    "#Strengths: \n",
    "\n",
    "#SVM's can model non-linear decision boundaries, and there are many kernels to choose from. \n",
    "#They are also fairly robust against overfitting, especially in high-dimensional space.\n",
    "# in our task the rbf kernel performance are better compared with linear kernel, when gama is 0.1 \n",
    "\n",
    "#Weaknesses: \n",
    "\n",
    "#However, SVM's are memory intensive, trickier to tune due to the importance of picking the right kernel as well as gamma value outperforms when increased, \n",
    "#and don't scale well to larger datasets. Currently in the industry, random forests are usually preferred over SVM's.\n",
    "# "
   ]
  },
  {
   "cell_type": "code",
   "execution_count": 62,
   "metadata": {
    "id": "nC0ifxIh8sVJ"
   },
   "outputs": [],
   "source": [
    "from sklearn.preprocessing import MinMaxScaler\n",
    "from sklearn import svm\n",
    "from sklearn.svm import SVR,SVC\n",
    "from sklearn.model_selection import cross_val_score"
   ]
  },
  {
   "cell_type": "markdown",
   "metadata": {
    "id": "YTfBmbfj2M6x"
   },
   "source": [
    "Finding best suitable kernel for SVM"
   ]
  },
  {
   "cell_type": "code",
   "execution_count": 63,
   "metadata": {
    "colab": {
     "base_uri": "https://localhost:8080/"
    },
    "id": "b5EadoT6TYcp",
    "outputId": "cdc108ec-1d38-4d97-8897-8127f4cf0abd"
   },
   "outputs": [
    {
     "name": "stdout",
     "output_type": "stream",
     "text": [
      "['rbf', 'linear', 'poly', 'sigmoid'] [0.714448945168928, 0.7174551274540523, 0.6128687447583786, 0.7052607204189272]\n"
     ]
    }
   ],
   "source": [
    "kernel = ['rbf','linear','poly','sigmoid']   \n",
    "acc_score_list = []\n",
    "for x in kernel:\n",
    "    best_kernel = svm.SVC(kernel=x)\n",
    "    best_kernel.fit(x_train, y_train)\n",
    "    Best_kernel_pred = best_kernel.predict(x_test)\n",
    "    acc_score_list.append(f1_score(y_test, Best_kernel_pred, average='weighted')) \n",
    "    \n",
    "print(kernel, acc_score_list)"
   ]
  },
  {
   "cell_type": "markdown",
   "metadata": {
    "id": "gBQrv_h9Orl_"
   },
   "source": [
    "From above we can tell Rbf and Linear Kernel are better performing"
   ]
  },
  {
   "cell_type": "code",
   "execution_count": 64,
   "metadata": {
    "id": "c3YT-U-F9YE7"
   },
   "outputs": [
    {
     "name": "stdout",
     "output_type": "stream",
     "text": [
      "Scores  [0.54867683 0.54390456 0.52445699 0.54456876 0.49197902 0.5200268\n",
      " 0.54342449 0.5143823  0.53005634 0.56455645]\n",
      "Mean 0.5326032545780606\n",
      "STD 0.019699505720311684\n",
      "Model Score : 0.5500512389552186\n"
     ]
    }
   ],
   "source": [
    "#   SVM -rbf Kernel \n",
    "\n",
    "# WARNING !!!  Computation speed:  1.5 Hours for Colab under TPU- 1.5 GB RAM (Normal CPU-> WILL CRASH, 2080 WILL TAKE 45 Mins)\n",
    "\n",
    "svr = SVR(C=10, kernel='rbf', gamma=1)\n",
    "cv = cross_val_score(svr, x_train, y_train, cv=10)\n",
    "print('Scores ', cv )\n",
    "print(\"Mean\",cv.mean())\n",
    "print(\"STD\", cv.std())\n",
    "model_svr = svr.fit(x_train, y_train)\n",
    "score = model.score(x_test, y_test)\n",
    "print(\"Model Score :\", score)"
   ]
  },
  {
   "cell_type": "code",
   "execution_count": null,
   "metadata": {
    "id": "5AQJb8dXBBQN"
   },
   "outputs": [],
   "source": [
    "svr_y_pred = model_svr.predict(x_test)"
   ]
  },
  {
   "cell_type": "code",
   "execution_count": null,
   "metadata": {
    "id": "dq3oXECB_4hM"
   },
   "outputs": [],
   "source": [
    "cm = pd.DataFrame(confusion_matrix(y_test, svr_y_pred))\n",
    "cm\n",
    "sns.heatmap(cm,cbar=False,annot=True,cmap='Blues',fmt=\"d\")\n",
    "plt.xlabel(\"svr_y_pred\")\n",
    "plt.ylabel(\"y_test\")\n",
    "plt.title(\"Confusion Matrix: Support Vector Machine Learning-linear Kernel\")\n",
    "plt.show()"
   ]
  },
  {
   "cell_type": "code",
   "execution_count": null,
   "metadata": {
    "id": "1yT9v0j2AasW"
   },
   "outputs": [],
   "source": [
    "pd.DataFrame(classification_report(y_test, svr_y_pred), output_dict=True)).T"
   ]
  },
  {
   "cell_type": "code",
   "execution_count": null,
   "metadata": {
    "id": "cOSyloahAzXF"
   },
   "outputs": [],
   "source": [
    "#print(classification_report(y_test, svr_y_pred))\n",
    "print(\"Accuracy Score\", accuracy_score(y_test, svr_y_pred))"
   ]
  },
  {
   "cell_type": "markdown",
   "metadata": {},
   "source": [
    "# Neural Network"
   ]
  },
  {
   "cell_type": "markdown",
   "metadata": {
    "id": "Hlql0HV8_rJv"
   },
   "source": [
    "https://www.kaggle.com/androbomb/simple-nn-with-python-multi-layer-perceptron"
   ]
  },
  {
   "cell_type": "code",
   "execution_count": 67,
   "metadata": {
    "id": "-EIuXlu8Xrkk"
   },
   "outputs": [],
   "source": [
    "import tensorflow as tf\n",
    "from tensorflow import keras\n",
    "from keras.models import Sequential\n",
    "from keras.layers import Dense\n",
    "from keras.preprocessing.sequence import pad_sequences"
   ]
  },
  {
   "cell_type": "code",
   "execution_count": 68,
   "metadata": {
    "id": "0CC6rauor4tk"
   },
   "outputs": [],
   "source": [
    "#y_train[:10]"
   ]
  },
  {
   "cell_type": "code",
   "execution_count": 69,
   "metadata": {
    "id": "dJns2Z_A8-7G"
   },
   "outputs": [],
   "source": [
    "#model = Sequential()\n",
    "#model.add(Dense(128, input_dim=2, activation='relu'))\n",
    "#model.add(Dense(64, activation='tanh'))\n",
    "#model.add(Dense(32, activation='relu'))\n",
    "#model.add(Dense(1))\n",
    "\n",
    "#model.summary()\n",
    "##order_train  = tf.sparse.reorder(x_train, y_train)\n",
    "##order_test= tf.sparse.reorder(x_test, y_test)\n",
    "\n",
    "\n",
    "#x1_train= (tf.sparse.reorder(x_train))\n",
    "#x1_test= tf.sparse.reorder(x_test)\n",
    "#y1_train= tf.sparse.reorder(y_train)\n",
    "#y1_teset=tf.sparse.reorder(y1_test)\n",
    "\n",
    "#x1_train = tf.sparse_placeholder(tf.float64)\n",
    "\n",
    "#model.compile(loss='mean_squared_error', optimizer=\"adam\", metrics=['mean_squared_error'])\n",
    "#model.fit(x1_train,y1_train, epochs=100)\n",
    "\n",
    "#y_pred = model.predict(x1_test)\n",
    "#print(\"MSE: \",np.sqrt(mean_squared_error(y1_test,y_pred)))\n",
    "#print(\"R2\",r2_score(y1_test, y_pred))\n",
    "#print(\"Accuracy: \",accuracy_score(y1_test, y_pred))\n",
    "\n",
    "# error of INPUT MUST BE A SPARSE TENSOR\n",
    "\n",
    "# TRIED TO MODIFY THE INPUT BY REORDERING THE INPUT SPARSE "
   ]
  },
  {
   "cell_type": "markdown",
   "metadata": {
    "id": "R0ODp88X1E70"
   },
   "source": [
    "**MULTI LAYER PERCEPTRON CLASSIFIER** -MLP"
   ]
  },
  {
   "cell_type": "code",
   "execution_count": 70,
   "metadata": {
    "id": "Iu1Z84RN1D3U"
   },
   "outputs": [],
   "source": [
    "#Importing MLPClassifier\n",
    "from sklearn.neural_network import MLPClassifier\n",
    "from sklearn.metrics import classification_report"
   ]
  },
  {
   "cell_type": "code",
   "execution_count": null,
   "metadata": {
    "id": "rdH4Oas4tI2F"
   },
   "outputs": [],
   "source": [
    "#Initializing the MLPClassifier\n",
    "classifier = MLPClassifier(hidden_layer_sizes=(150,100,50), max_iter=300,activation = 'relu',solver='adam',random_state=1)\n",
    "classifier.fit(x_train, y_train)\n",
    "MLP_y_pred = classifier.predict(x_test)"
   ]
  },
  {
   "cell_type": "code",
   "execution_count": null,
   "metadata": {
    "id": "ZJu4u-xBtI6C"
   },
   "outputs": [],
   "source": [
    "#Importing Confusion Matrix\n",
    "#Comparing the predictions against the actual observations \n",
    "cm1 = confusion_matrix(y_test, MLP_y_pred)\n",
    "cm1\n",
    "#Printing the accuracy\n",
    "print (\"Accuracy of MLPClassifier :\",accuracy_score(y_test, MLP_y_pred))\n",
    "print(\"Model Score: \", model_score(x_test, y_test))\n",
    "print(\"R-Square value \",r2_score(y_test, MLP_y_pred))\n",
    "print(\"Classification Report: \", classification_report(y_test, MLP_y_pred) )"
   ]
  },
  {
   "cell_type": "code",
   "execution_count": null,
   "metadata": {
    "id": "2GgJYBbGAjm0"
   },
   "outputs": [],
   "source": [
    "sns.heatmap(cm1,cbar=False,annot=True,cmap='Blues',fmt=\"d\")\n",
    "plt.xlabel(\"MLP_y_pred\")\n",
    "plt.ylabel(\"y_test\")\n",
    "plt.title(\"Confusion Matrix: Support Vector Machine Learning-linear Kernel\")\n",
    "plt.show()"
   ]
  },
  {
   "cell_type": "markdown",
   "metadata": {
    "id": "UcdybpnJpXC2"
   },
   "source": [
    " Linear_Model Perceptron"
   ]
  },
  {
   "cell_type": "code",
   "execution_count": null,
   "metadata": {
    "id": "09Gd-OkOpWfp"
   },
   "outputs": [],
   "source": [
    "from sklearn.linear_model import Perceptron"
   ]
  },
  {
   "cell_type": "code",
   "execution_count": null,
   "metadata": {
    "id": "WwJYGk9svj41"
   },
   "outputs": [],
   "source": [
    "nn = Perceptron()\n",
    "nn.fit(x_train, y_train)\n",
    "per_y_pred = nn.predict(x_test)\n",
    "print(classification_report(y_test, per_y_pred))"
   ]
  },
  {
   "cell_type": "code",
   "execution_count": null,
   "metadata": {
    "id": "CIEBOPihBJCM"
   },
   "outputs": [],
   "source": [
    "cm1 = confusion_matrix(y_test, per_y_pred)\n",
    "cm1\n",
    "sns.heatmap(cm1,cbar=False,annot=True,cmap='Blues',fmt=\"d\")\n",
    "plt.xlabel(\"per_y_pred\")\n",
    "plt.ylabel(\"y_test\")\n",
    "plt.title(\"Confusion Matrix: Support Vector Machine Learning-linear Kernel\")\n",
    "plt.show()"
   ]
  },
  {
   "cell_type": "code",
   "execution_count": null,
   "metadata": {
    "id": "CmuajyAixR4-"
   },
   "outputs": [],
   "source": [
    "print(\"Accuracy Score\", accuracy_score(y_test, per_y_pred))"
   ]
  },
  {
   "cell_type": "markdown",
   "metadata": {
    "id": "HHSfrK9YxStU"
   },
   "source": [
    "# Conclusion :\n"
   ]
  },
  {
   "cell_type": "code",
   "execution_count": null,
   "metadata": {
    "id": "-_M8YZi_5aa5"
   },
   "outputs": [],
   "source": [
    "final = pd.DataFrame({'MODELS': [\"NAIVE BAYES\",\"SVM\",\"MLP\",\"PERCEPTRON\"],\n",
    "'ACCURACY': [accuracy_score(y_test,Nb_y_pred),accuracy_score(y_test,svr_y_pred),accuracy_score(y_test, MLP_y_pred), accuracy_score(y_test, per_y_pred) ],\n",
    " 'REASONS' :[ \"SVM linear kernal achieves the highest performance\",\"Neural network\", \"Keras -Sequential Model with Adam optimizer\",\"to be\"]})\n",
    "final"
   ]
  },
  {
   "cell_type": "code",
   "execution_count": null,
   "metadata": {
    "id": "kXTc0cuWxXtX"
   },
   "outputs": [],
   "source": [
    "\n",
    "# Best Model is the Naive Bayes "
   ]
  },
  {
   "cell_type": "code",
   "execution_count": null,
   "metadata": {},
   "outputs": [],
   "source": []
  }
 ],
 "metadata": {
  "accelerator": "TPU",
  "colab": {
   "collapsed_sections": [],
   "name": "Copy of 2nd_Assignment_NaiveBayes_NN_SVM.ipynb",
   "provenance": []
  },
  "kernelspec": {
   "display_name": "Python 3",
   "language": "python",
   "name": "python3"
  },
  "language_info": {
   "codemirror_mode": {
    "name": "ipython",
    "version": 3
   },
   "file_extension": ".py",
   "mimetype": "text/x-python",
   "name": "python",
   "nbconvert_exporter": "python",
   "pygments_lexer": "ipython3",
   "version": "3.8.5"
  }
 },
 "nbformat": 4,
 "nbformat_minor": 1
}
